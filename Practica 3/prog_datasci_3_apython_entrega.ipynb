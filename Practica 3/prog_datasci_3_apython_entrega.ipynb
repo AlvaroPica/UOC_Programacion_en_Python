{
 "metadata": {
  "kernelspec": {
   "display_name": "Python 2",
   "language": "python",
   "name": "python2"
  },
  "language_info": {
   "codemirror_mode": {
    "name": "ipython",
    "version": 2
   },
   "file_extension": ".py",
   "mimetype": "text/x-python",
   "name": "python",
   "nbconvert_exporter": "python",
   "pygments_lexer": "ipython2",
   "version": "2.7.12"
  },
  "name": "",
  "signature": "sha256:aac9c8942b10ed68021146172ccf17c00b5c908d8f50d5d996806fb5d4be6886"
 },
 "nbformat": 3,
 "nbformat_minor": 0,
 "worksheets": [
  {
   "cells": [
    {
     "cell_type": "heading",
     "level": 1,
     "metadata": {},
     "source": [
      "Programaci\u00f3n para *Data Science*"
     ]
    },
    {
     "cell_type": "heading",
     "level": 2,
     "metadata": {},
     "source": [
      "Unidad 3: Conceptos avanzados de Python"
     ]
    },
    {
     "cell_type": "markdown",
     "metadata": {},
     "source": [
      "Ejercicios y preguntas te\u00f3ricas\n",
      "-------------------------------\n",
      "\n",
      "A continuaci\u00f3n, encontrar\u00e9is la parte que ten\u00e9is que completar en este modulo y las preguntas te\u00f3ricas a contestar."
     ]
    },
    {
     "cell_type": "markdown",
     "metadata": {},
     "source": [
      "### Ejercicio 1\n",
      "\n",
      "Completad el c\u00f3digo necesario para calcular el n\u00famero de palabras y de espacios de un texto. El n\u00famero de espacios no tiene que ser necesariamente funci\u00f3n del n\u00famero de palabras. **(1 punto)**"
     ]
    },
    {
     "cell_type": "code",
     "collapsed": false,
     "input": [
      "import string\n",
      "\n",
      "def contar_palabras_y_espacios(texto):\n",
      "    # Cuenta las palabras contenidas en el string texto y tambi\u00e9n sus espacios.pyc\n",
      "    num_palabras = 0\n",
      "    num_espacios = 0\n",
      "    \n",
      "    num_espacios = texto.count(\" \")\n",
      "    string_split = texto.split(\" \")\n",
      "    num_palabras = len(string_split)\n",
      "\n",
      "    return num_palabras, num_espacios\n",
      "\n",
      "\n",
      "texto = \"Orbiting Earth in the spaceship, I saw how beautiful our planet is. \\\n",
      "            People, let us preserve and increase this beauty, not destroy it!\"\n",
      "\n",
      "num_palabras, num_espacios = contar_palabras_y_espacios(texto)\n",
      "print \"El n\u00famero de palabras es de %d\" % num_palabras\n",
      "print \"El n\u00famero de espacios es de %d\" % num_espacios"
     ],
     "language": "python",
     "metadata": {},
     "outputs": [
      {
       "output_type": "stream",
       "stream": "stdout",
       "text": [
        "El n\u00famero de palabras es de 35\n",
        "El n\u00famero de espacios es de 34\n"
       ]
      }
     ],
     "prompt_number": 7
    },
    {
     "cell_type": "markdown",
     "metadata": {},
     "source": [
      "### Ejercicio 2\n",
      "\n",
      "Dada una mol\u00e9cula representada por un _string_ del estilo C9-H8-O4 calculad su masa at\u00f3mica. Por ejemplo, para una mol\u00e9cula C4-H3, la masa at\u00f3mica ser\u00eda de 4\\*12.01 + 3\\*1.007825.\n",
      "\n",
      "Haced una soluci\u00f3n general accediendo al diccionario mediante la clave, que en este caso ser\u00e1 el tipo de \u00e1tomo. Por ejemplo, para la mol\u00e9cula C5-H3 deber\u00edamos seguir estos pasos:\n",
      "* Separar la molecula por los guiones (podemos hacerlo con la funci\u00f3n split, por ejemplo).\n",
      "* Para cada una de las partes, C5 y H3, encontrar el tipo de \u00e1tomo: C y H (necesitaremos un bucle de alg\u00fan tipo aqu\u00ed).\n",
      "* Acceder al diccionario de masas y para la clave que se corresponde con el tipo de \u00e1tomo, obtener la masa.\n",
      "* Una vez encontrada la masa, multiplicarla por el n\u00famero de \u00e1tomos encontrados.\n",
      "\n",
      "Pista: para un string del tipo a = 'C15', a[0] nos proporcionar\u00e1 el tipo de \u00e1tomo, C. a[1:] nos proporciona el string restante: '15'. Tened en cuenta que ha de convertirse a n\u00famero decimal para poder multiplicarse. **(1.5 puntos)**"
     ]
    },
    {
     "cell_type": "code",
     "collapsed": false,
     "input": [
      "# Masas at\u00f3micas\n",
      "masas = {'H': 1.007825, 'C': 12.01, 'O': 15.9994, 'N': 14.0067, 'S': 31.972071, 'P': 30.973762}\n",
      "\n",
      "def calcula_masa_atomica(molecula):\n",
      "    \"\"\"\n",
      "    Calcula la masa at\u00f3mica de una mol\u00e9cula\n",
      "    \"\"\"\n",
      "    masa = 0.0\n",
      "    \n",
      "    #Dividimos el string de la molecula por el guion:\n",
      "    atomos_molecula = molecula.split(\"-\")\n",
      "    \n",
      "    #De cada subdisivion, dividimos en una lista de caracteres y cogemos el elemento 0, es decir, el primero y que marcara el \n",
      "    #tipo de atomo y, por tanto, la clave a usar en el diccionario masas. El resto del string hace referencia a la cantidad\n",
      "    #de \u00e1tomos de ese tipo hay (cuantificador_atomo)\n",
      "    \n",
      "    for ii in atomos_molecula:\n",
      "        identificador_atomo = list(ii)[0]\n",
      "        cuantificador_atomo = ii[1:]\n",
      "        if cuantificador_atomo == '':\n",
      "           cuantificador_atomo = \"1\"\n",
      "        cuantificador_atomo = float(cuantificador_atomo)\n",
      "        masa_atomo = masas[identificador_atomo]\n",
      "        masa_asociada_atomo = cuantificador_atomo * masa_atomo\n",
      "        masa = masa + masa_asociada_atomo\n",
      "            # print identificador_atomo, cuantificador_atomo, masa_atomo, masa_asociada_atomo\n",
      "    \n",
      "    return masa\n",
      "\n",
      "print calcula_masa_atomica('C13-H18-O2')\n",
      "print calcula_masa_atomica('C8-H10-N4-O2')\n",
      "print calcula_masa_atomica('C20-H25-N3-O')\n",
      "print calcula_masa_atomica('C20-H10-O2-P2-S')"
     ],
     "language": "python",
     "metadata": {},
     "outputs": [
      {
       "output_type": "stream",
       "stream": "stdout",
       "text": [
        "206.26965\n",
        "194.18385\n",
        "323.415125\n",
        "376.196645\n"
       ]
      }
     ],
     "prompt_number": 8
    },
    {
     "cell_type": "markdown",
     "metadata": {},
     "source": [
      "### Ejercicio 3\n",
      "\n",
      "Completad las siguientes funciones matem\u00e1ticas y documentad el c\u00f3digo tambi\u00e9n de cada funci\u00f3n. Por \u00faltimo, escribid alg\u00fan ejemplo de uso de cada una de las funciones. **(1.5 puntos)**"
     ]
    },
    {
     "cell_type": "code",
     "collapsed": false,
     "input": [
      "# Completad las siguientes funciones matem\u00e1ticas\n",
      "import math\n",
      "\n",
      "def area_circulo(radio):\n",
      "\n",
      "    area = math.pi * radio ** 2\n",
      "\n",
      "    return area\n",
      "\n",
      "\n",
      "print(\"El area de un circulo de radio 3 cm es de %.2f cm2\" % area_circulo(3))\n",
      "\n",
      "\n",
      "def longitud_circulo(radio):\n",
      "\n",
      "    longitud = 2 * math.pi * radio\n",
      "\n",
      "    return longitud\n",
      "\n",
      "\n",
      "print(\"La longitud de circulo de radio 3 cm es de %.2f cm\" % longitud_circulo(3))\n",
      "\n",
      "\n",
      "def hipotenusa(cateto1, cateto2):\n",
      "\n",
      "    hipotenusa_triangulo = math.sqrt((math.pow(cateto1, 2) + math.pow(cateto2, 2)))\n",
      "\n",
      "    return hipotenusa_triangulo\n",
      "\n",
      "\n",
      "print(\"La hipotenua de un triangulo de catetos de 3 y 5 cm respectivamente mide %.2f cm\" % hipotenusa(3, 5))\n",
      "\n",
      "\n",
      "def area_cuadrado(lado):\n",
      "\n",
      "    area = lado * lado\n",
      "\n",
      "    return area  # puedo llamar a una variable local como otras variables locales dentro de otros procedimientos?\"\n",
      "\n",
      "\n",
      "def volumen_esfera(radio):\n",
      "\n",
      "    volumen = math.pi * math.pow(radio, 3)\n",
      "\n",
      "    return volumen\n",
      "\n",
      "\n",
      "print(\"El volumen de una esfera de 3 cm de radio es de %.2f cm3\" % volumen_esfera(3))\n",
      "\n",
      "\n",
      "def volumen_cubo(lado):\n",
      "\n",
      "    volumen = math.pow(lado, 3)\n",
      "\n",
      "    return volumen\n",
      "\n",
      "\n",
      "print(\"El volumen de una cubo de 3 cm de arista es de %.2f cm3\" % volumen_cubo(3))\n",
      "\n",
      "\n",
      "# Escribid aqu\u00ed algunos ejemplos utilizando estas funciones, por ejemplo:\n",
      "# print 'El volumen del cubo de lado 3.5 es %f' % volumen_cubo(3.5)"
     ],
     "language": "python",
     "metadata": {},
     "outputs": [
      {
       "output_type": "stream",
       "stream": "stdout",
       "text": [
        "El area de un circulo de radio 3 cm es de 28.27 cm2\n",
        "La longitud de circulo de radio 3 cm es de 18.85 cm\n",
        "La hipotenua de un triangulo de catetos de 3 y 5 cm respectivamente mide 5.83 cm\n",
        "El volumen de una esfera de 3 cm de radio es de 84.82 cm3\n",
        "El volumen de una cubo de 3 cm de arista es de 27.00 cm3\n"
       ]
      }
     ],
     "prompt_number": 9
    },
    {
     "cell_type": "markdown",
     "metadata": {},
     "source": [
      "### Ejercicio 4\n",
      "\n",
      "El siguiente ejercicio consiste en pasar un n\u00famero en base 2 (binario, 0/1) a base 10 (decimal).\n",
      "\n",
      "Dado un _string_ que representa un n\u00famero en binario, por ejemplo, 1011, devolved el n\u00famero \n",
      "natural correspondiente, en este caso, 11. **(1.5 puntos)**"
     ]
    },
    {
     "cell_type": "code",
     "collapsed": false,
     "input": [
      "# C\u00f3digo que hay que completar: DEFINID UNA FUNCI\u00d3N y escribid algunos casos de uso de esa funci\u00f3n.def binario_a_decimal(numero_a_convertir):\n",
      "def binario_a_decimal(numero_a_convertir):\n",
      "    \n",
      "    numero_a_convertir = str(numero_a_convertir)\n",
      "    numero_a_convertir = list(numero_a_convertir)\n",
      "    for ii in numero_a_convertir:\n",
      "        if ii not in [\"0\", \"1\"]:\n",
      "            print(\"El numero %s no es binario\" % ''.join(numero_a_convertir))\n",
      "            return \"Introduzca un numero binario\"\n",
      "    print(\"El numero decimal correspondiente al numero binario %s es:\" % ''.join(numero_a_convertir))\n",
      "    vector_of_twos = []\n",
      "    power_index = []\n",
      "    multipliers = []\n",
      "    for ii in range(0, (len(numero_a_convertir))):\n",
      "        vector_of_twos.append(2)\n",
      "        power_index.insert(0, ii)\n",
      "        multipliers.append(int(numero_a_convertir[ii]))\n",
      "    resultado = sum([(a ** b) * c for a, b, c in zip(vector_of_twos, power_index, multipliers)])\n",
      "\n",
      "    return resultado\n",
      "\n",
      "\n",
      "Lista_ejemplos = [101010101, 1111, 21311]\n",
      "for ejemplo in Lista_ejemplos:\n",
      "    print(binario_a_decimal(ejemplo))"
     ],
     "language": "python",
     "metadata": {},
     "outputs": [
      {
       "output_type": "stream",
       "stream": "stdout",
       "text": [
        "El numero decimal correspondiente al numero binario 101010101 es:\n",
        "341\n",
        "El numero decimal correspondiente al numero binario 1111 es:\n",
        "15\n",
        "El numero 21311 no es binario\n",
        "Introduzca un numero binario\n"
       ]
      }
     ],
     "prompt_number": 10
    },
    {
     "cell_type": "markdown",
     "metadata": {},
     "source": [
      "### Ejercicio 5\n",
      "\n",
      "Uno de los algoritmos m\u00e1s b\u00e1sicos en criptograf\u00eda es el [cifrado C\u00e9sar](https://es.wikipedia.org/wiki/Cifrado_C%C3%A9sar), que fue utilizado por Julio C\u00e9sar para comunicarse con sus generales, y que consiste en dado un texto, por cada una de las letras del texto, a\u00f1adirle un desplazamiento para conseguir una nueva letra diferente de la original. Comprenderemos r\u00e1pidamente su mecanismo mediante un ejemplo:\n",
      "\n",
      "Si asignamos el n\u00famero 1 a la primera letra del abecedario, A, 2 a la siguiente, B, etc., imaginad que tenemos el siguiente mensaje:\n",
      "<code>\n",
      "ABC\n",
      "123\n",
      "</code>\n",
      "\n",
      "Si aplicamos un desplazamiento de 3, buscaremos cu\u00e1l es la letra en el abecedario que se corresponde:\n",
      "<code>\n",
      "DEF\n",
      "456\n",
      "</code>\n",
      "\n",
      "ABC se ha convertido en DEF porque hemos sumado un desplazamiento de 3. Tambi\u00e9n podr\u00edamos aplicar otros tipos de desplazamiento como los negativos. Por ejemplo, para el desplazamiento -1 y el mensaje original ABC tendr\u00edamos un mensaje cifrado de: ZAB.\n",
      "\n",
      "Escribid una funci\u00f3n que dado un mensaje original y un desplazamiento, calcule y devuelva el mensaje cifrado. **(1.5 puntos)**"
     ]
    },
    {
     "cell_type": "code",
     "collapsed": false,
     "input": [
      "#Utilizo dos diccionarios un con clave-valor letra-numero y otro con clave-valor numero-letra para hacer el proceso inverso.\n",
      "#Divido por palabras para respetar espacios de mensaje original\n",
      "#Se convierte a mayusculas por si el mensaje original contiene alguna minuscula\n",
      "\n",
      "lista_abecedario = list(string.ascii_uppercase)\n",
      "num_letras_abecedario = len(lista_abecedario)\n",
      "lista_numeros = range(num_letras_abecedario)\n",
      "diccionario_cesar_forward = dict(zip(lista_numeros, lista_abecedario))\n",
      "diccionario_cesar_backwards = dict(zip(lista_abecedario, lista_numeros))\n",
      "\n",
      "\n",
      "def cifrado_cesar(mensaje, desplazamiento=1):\n",
      "    \"\"\"\n",
      "    Cifra el mensaje utilizando el metodo de Cesar dado un desplazamiento\n",
      "    \"\"\"\n",
      "    mensaje_cifrado = \"\"\n",
      "    mensaje = mensaje.split()\n",
      "    palabras_codificadas = []\n",
      "    for palabra in mensaje:\n",
      "        palabra = palabra.upper()\n",
      "        letras_palabra = list(palabra)\n",
      "        valores_palabra = [diccionario_cesar_backwards[x] for x in letras_palabra]\n",
      "        valores_codificados = [x + desplazamiento for x in valores_palabra]\n",
      "        letras_codificadas = [diccionario_cesar_forward[x % num_letras_abecedario] for x in valores_codificados]\n",
      "        palabras_codificadas.append(''.join(letras_codificadas))\n",
      "    mensaje_cifrado = ' '.join(palabras_codificadas)\n",
      "    return mensaje_cifrado\n",
      "\n",
      "\n",
      "# Aqu\u00ed pod\u00e9is a\u00f1adir mas ejemplos.\n",
      "print cifrado_cesar(\"PROGRAMACION PARA DATA SCIENCE\", 1)"
     ],
     "language": "python",
     "metadata": {},
     "outputs": [
      {
       "output_type": "stream",
       "stream": "stdout",
       "text": [
        "QSPHSBNBDJPO QBSB EBUB TDJFODF\n"
       ]
      }
     ],
     "prompt_number": 14
    },
    {
     "cell_type": "markdown",
     "metadata": {},
     "source": [
      "### Pregunta 1\n",
      "\n",
      "Las funciones _range_ y _xrange_ pueden utilizarse con la misma finalidad, pero su funcionamiento es distinto. Explicad en qu\u00e9 se diferencian y comentad para qu\u00e9 sirve la palabra reservada *yield*. Poned un ejemplo de uso de *range*, *xrange* y otro de *yield*. **(1 punto)**\n",
      "\n",
      "**Respuesta:**"
     ]
    },
    {
     "cell_type": "code",
     "collapsed": false,
     "input": [],
     "language": "python",
     "metadata": {},
     "outputs": [],
     "prompt_number": 14
    },
    {
     "cell_type": "code",
     "collapsed": false,
     "input": [],
     "language": "python",
     "metadata": {},
     "outputs": [],
     "prompt_number": 14
    },
    {
     "cell_type": "markdown",
     "metadata": {},
     "source": [
      "La funcion range ocupar\u00e1 espacio en la memoria mientras que la funcion xrange no, lo cual para iteraciones con millones de repeticiones es de gran utilidad. La ventaja de range es que es m\u00e1s f\u00e1cil de leer que xrange.  Xrange genera los valores \"on the fly\" o \"segun se necesite\".\n",
      "\n",
      "Respecto a yield es similar a return pero en modo \"generador\", sin ocupar memoria. Si sabes que tienes una funcion que devolvera una gran cantidad de valores que solo necesitas leer una vez ser\u00e1 \u00fatil hacer uso de yield en lugar de return habitual."
     ]
    },
    {
     "cell_type": "markdown",
     "metadata": {},
     "source": [
      "### Pregunta 2\n",
      "\n",
      "El paradigma de programaci\u00f3n orientada a objetos es ampliamente utilizado en gran parte de las librer\u00edas que se escriben en Python. Es una forma \u00fatil de encapsular informaci\u00f3n de la que se ocupar\u00e1 el propio objeto donde se ha definido esa informaci\u00f3n. Explicad qu\u00e9 es una clase, un objeto, un atributo, un m\u00e9todo, un constructor, una superclase y una subclase. Poned un ejemplo de definici\u00f3n de una clase en c\u00f3digo Python y un ejemplo de uso de esa misma clase. Pod\u00e9is basaros en el material [Object Oriented Program Design](http://life.bsc.es/pid/brian/python/#/7). **(1 punto)**\n",
      "\n",
      "**Respuesta:**"
     ]
    },
    {
     "cell_type": "markdown",
     "metadata": {},
     "source": [
      "Respuesta"
     ]
    },
    {
     "cell_type": "markdown",
     "metadata": {},
     "source": [
      "### Pregunta 3\n",
      "\n",
      "Las excepciones son errores detectados en tiempo de ejecuci\u00f3n. Pueden y deben ser manejadas por el programador para minimizar el riesgo de que un determinado programa falle de forma no controlada. Poned ejemplos de tipos de excepci\u00f3n en el lenguaje Python y de c\u00f3mo se capturan. **(1 punto)**\n",
      "\n",
      "**Respuesta:**"
     ]
    },
    {
     "cell_type": "markdown",
     "metadata": {},
     "source": [
      "Respuesta"
     ]
    }
   ],
   "metadata": {}
  }
 ]
}